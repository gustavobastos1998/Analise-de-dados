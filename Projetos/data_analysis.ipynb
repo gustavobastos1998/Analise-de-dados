{
 "cells": [
  {
   "cell_type": "markdown",
   "metadata": {
    "id": "tNx-JY36VadJ"
   },
   "source": [
    "# Install haversine\n"
   ]
  },
  {
   "cell_type": "code",
   "execution_count": 10,
   "metadata": {
    "collapsed": true,
    "jupyter": {
     "outputs_hidden": true,
     "source_hidden": true
    },
    "scrolled": true
   },
   "outputs": [
    {
     "name": "stdout",
     "output_type": "stream",
     "text": [
      "Collecting folium\n",
      "  Downloading folium-0.18.0-py2.py3-none-any.whl.metadata (3.8 kB)\n",
      "Collecting branca>=0.6.0 (from folium)\n",
      "  Downloading branca-0.8.0-py3-none-any.whl.metadata (1.5 kB)\n",
      "Requirement already satisfied: jinja2>=2.9 in c:\\users\\gugui\\appdata\\roaming\\jupyterlab-desktop\\jlab_server\\lib\\site-packages (from folium) (3.1.4)\n",
      "Requirement already satisfied: numpy in c:\\users\\gugui\\appdata\\roaming\\jupyterlab-desktop\\jlab_server\\lib\\site-packages (from folium) (2.1.0)\n",
      "Requirement already satisfied: requests in c:\\users\\gugui\\appdata\\roaming\\jupyterlab-desktop\\jlab_server\\lib\\site-packages (from folium) (2.32.3)\n",
      "Collecting xyzservices (from folium)\n",
      "  Downloading xyzservices-2024.9.0-py3-none-any.whl.metadata (4.1 kB)\n",
      "Requirement already satisfied: MarkupSafe>=2.0 in c:\\users\\gugui\\appdata\\roaming\\jupyterlab-desktop\\jlab_server\\lib\\site-packages (from jinja2>=2.9->folium) (2.1.5)\n",
      "Requirement already satisfied: charset-normalizer<4,>=2 in c:\\users\\gugui\\appdata\\roaming\\jupyterlab-desktop\\jlab_server\\lib\\site-packages (from requests->folium) (3.3.2)\n",
      "Requirement already satisfied: idna<4,>=2.5 in c:\\users\\gugui\\appdata\\roaming\\jupyterlab-desktop\\jlab_server\\lib\\site-packages (from requests->folium) (3.8)\n",
      "Requirement already satisfied: urllib3<3,>=1.21.1 in c:\\users\\gugui\\appdata\\roaming\\jupyterlab-desktop\\jlab_server\\lib\\site-packages (from requests->folium) (2.2.2)\n",
      "Requirement already satisfied: certifi>=2017.4.17 in c:\\users\\gugui\\appdata\\roaming\\jupyterlab-desktop\\jlab_server\\lib\\site-packages (from requests->folium) (2024.7.4)\n",
      "Downloading folium-0.18.0-py2.py3-none-any.whl (108 kB)\n",
      "Downloading branca-0.8.0-py3-none-any.whl (25 kB)\n",
      "Downloading xyzservices-2024.9.0-py3-none-any.whl (85 kB)\n",
      "Installing collected packages: xyzservices, branca, folium\n",
      "Successfully installed branca-0.8.0 folium-0.18.0 xyzservices-2024.9.0\n"
     ]
    }
   ],
   "source": [
    "#!pip install plotly\n",
    "#!pip install haversine\n",
    "!pip install folium"
   ]
  },
  {
   "cell_type": "markdown",
   "metadata": {
    "id": "tNx-JY36VadJ"
   },
   "source": [
    "# Imports e file upload\n"
   ]
  },
  {
   "cell_type": "code",
   "execution_count": 1,
   "metadata": {
    "colab": {
     "base_uri": "https://localhost:8080/",
     "height": 93
    },
    "id": "MtUDG2xK32Sw",
    "jupyter": {
     "source_hidden": true
    },
    "outputId": "727ef538-d7d1-4f32-e2af-aaf37e1202d2"
   },
   "outputs": [],
   "source": [
    "import pandas as pd\n",
    "import haversine as hs\n",
    "import numpy as np"
   ]
  },
  {
   "cell_type": "markdown",
   "metadata": {
    "id": "rNSdhnwNVhVB"
   },
   "source": [
    "# Read"
   ]
  },
  {
   "cell_type": "code",
   "execution_count": 38,
   "metadata": {
    "colab": {
     "base_uri": "https://localhost:8080/",
     "height": 244
    },
    "collapsed": true,
    "id": "nH_eL9b04BEG",
    "jupyter": {
     "outputs_hidden": true
    },
    "outputId": "8e4a94a5-b86c-4382-9736-6c1ff1f4b487"
   },
   "outputs": [
    {
     "data": {
      "text/html": [
       "<div>\n",
       "<style scoped>\n",
       "    .dataframe tbody tr th:only-of-type {\n",
       "        vertical-align: middle;\n",
       "    }\n",
       "\n",
       "    .dataframe tbody tr th {\n",
       "        vertical-align: top;\n",
       "    }\n",
       "\n",
       "    .dataframe thead th {\n",
       "        text-align: right;\n",
       "    }\n",
       "</style>\n",
       "<table border=\"1\" class=\"dataframe\">\n",
       "  <thead>\n",
       "    <tr style=\"text-align: right;\">\n",
       "      <th></th>\n",
       "      <th>ID</th>\n",
       "      <th>Delivery_person_ID</th>\n",
       "      <th>Delivery_person_Age</th>\n",
       "      <th>Delivery_person_Ratings</th>\n",
       "      <th>Restaurant_latitude</th>\n",
       "      <th>Restaurant_longitude</th>\n",
       "      <th>Delivery_location_latitude</th>\n",
       "      <th>Delivery_location_longitude</th>\n",
       "      <th>Order_Date</th>\n",
       "      <th>Time_Orderd</th>\n",
       "      <th>Time_Order_picked</th>\n",
       "      <th>Weatherconditions</th>\n",
       "      <th>Road_traffic_density</th>\n",
       "      <th>Vehicle_condition</th>\n",
       "      <th>Type_of_order</th>\n",
       "      <th>Type_of_vehicle</th>\n",
       "      <th>multiple_deliveries</th>\n",
       "      <th>Festival</th>\n",
       "      <th>City</th>\n",
       "      <th>Time_taken(min)</th>\n",
       "    </tr>\n",
       "  </thead>\n",
       "  <tbody>\n",
       "    <tr>\n",
       "      <th>0</th>\n",
       "      <td>0x4607</td>\n",
       "      <td>INDORES13DEL02</td>\n",
       "      <td>37</td>\n",
       "      <td>4.9</td>\n",
       "      <td>22.745049</td>\n",
       "      <td>75.892471</td>\n",
       "      <td>22.765049</td>\n",
       "      <td>75.912471</td>\n",
       "      <td>19-03-2022</td>\n",
       "      <td>11:30:00</td>\n",
       "      <td>11:45:00</td>\n",
       "      <td>conditions Sunny</td>\n",
       "      <td>High</td>\n",
       "      <td>2.0</td>\n",
       "      <td>Snack</td>\n",
       "      <td>motorcycle</td>\n",
       "      <td>0</td>\n",
       "      <td>No</td>\n",
       "      <td>Urban</td>\n",
       "      <td>(min) 24</td>\n",
       "    </tr>\n",
       "    <tr>\n",
       "      <th>1</th>\n",
       "      <td>0xb379</td>\n",
       "      <td>BANGRES18DEL02</td>\n",
       "      <td>34</td>\n",
       "      <td>4.5</td>\n",
       "      <td>12.913041</td>\n",
       "      <td>77.683237</td>\n",
       "      <td>13.043041</td>\n",
       "      <td>77.813237</td>\n",
       "      <td>25-03-2022</td>\n",
       "      <td>19:45:00</td>\n",
       "      <td>19:50:00</td>\n",
       "      <td>conditions Stormy</td>\n",
       "      <td>Jam</td>\n",
       "      <td>2.0</td>\n",
       "      <td>Snack</td>\n",
       "      <td>scooter</td>\n",
       "      <td>1</td>\n",
       "      <td>No</td>\n",
       "      <td>Metropolitian</td>\n",
       "      <td>(min) 33</td>\n",
       "    </tr>\n",
       "    <tr>\n",
       "      <th>2</th>\n",
       "      <td>0x5d6d</td>\n",
       "      <td>BANGRES19DEL01</td>\n",
       "      <td>23</td>\n",
       "      <td>4.4</td>\n",
       "      <td>12.914264</td>\n",
       "      <td>77.678400</td>\n",
       "      <td>12.924264</td>\n",
       "      <td>77.688400</td>\n",
       "      <td>19-03-2022</td>\n",
       "      <td>08:30:00</td>\n",
       "      <td>08:45:00</td>\n",
       "      <td>conditions Sandstorms</td>\n",
       "      <td>Low</td>\n",
       "      <td>0.0</td>\n",
       "      <td>Drinks</td>\n",
       "      <td>motorcycle</td>\n",
       "      <td>1</td>\n",
       "      <td>No</td>\n",
       "      <td>Urban</td>\n",
       "      <td>(min) 26</td>\n",
       "    </tr>\n",
       "    <tr>\n",
       "      <th>3</th>\n",
       "      <td>0x7a6a</td>\n",
       "      <td>COIMBRES13DEL02</td>\n",
       "      <td>38</td>\n",
       "      <td>4.7</td>\n",
       "      <td>11.003669</td>\n",
       "      <td>76.976494</td>\n",
       "      <td>11.053669</td>\n",
       "      <td>77.026494</td>\n",
       "      <td>05-04-2022</td>\n",
       "      <td>18:00:00</td>\n",
       "      <td>18:10:00</td>\n",
       "      <td>conditions Sunny</td>\n",
       "      <td>Medium</td>\n",
       "      <td>0.0</td>\n",
       "      <td>Buffet</td>\n",
       "      <td>motorcycle</td>\n",
       "      <td>1</td>\n",
       "      <td>No</td>\n",
       "      <td>Metropolitian</td>\n",
       "      <td>(min) 21</td>\n",
       "    </tr>\n",
       "    <tr>\n",
       "      <th>4</th>\n",
       "      <td>0x70a2</td>\n",
       "      <td>CHENRES12DEL01</td>\n",
       "      <td>32</td>\n",
       "      <td>4.6</td>\n",
       "      <td>12.972793</td>\n",
       "      <td>80.249982</td>\n",
       "      <td>13.012793</td>\n",
       "      <td>80.289982</td>\n",
       "      <td>26-03-2022</td>\n",
       "      <td>13:30:00</td>\n",
       "      <td>13:45:00</td>\n",
       "      <td>conditions Cloudy</td>\n",
       "      <td>High</td>\n",
       "      <td>1.0</td>\n",
       "      <td>Snack</td>\n",
       "      <td>scooter</td>\n",
       "      <td>1</td>\n",
       "      <td>No</td>\n",
       "      <td>Metropolitian</td>\n",
       "      <td>(min) 30</td>\n",
       "    </tr>\n",
       "  </tbody>\n",
       "</table>\n",
       "</div>"
      ],
      "text/plain": [
       "        ID Delivery_person_ID Delivery_person_Age Delivery_person_Ratings  \\\n",
       "0  0x4607     INDORES13DEL02                   37                     4.9   \n",
       "1  0xb379     BANGRES18DEL02                   34                     4.5   \n",
       "2  0x5d6d     BANGRES19DEL01                   23                     4.4   \n",
       "3  0x7a6a    COIMBRES13DEL02                   38                     4.7   \n",
       "4  0x70a2     CHENRES12DEL01                   32                     4.6   \n",
       "\n",
       "   Restaurant_latitude  Restaurant_longitude  Delivery_location_latitude  \\\n",
       "0            22.745049             75.892471                   22.765049   \n",
       "1            12.913041             77.683237                   13.043041   \n",
       "2            12.914264             77.678400                   12.924264   \n",
       "3            11.003669             76.976494                   11.053669   \n",
       "4            12.972793             80.249982                   13.012793   \n",
       "\n",
       "   Delivery_location_longitude  Order_Date Time_Orderd Time_Order_picked  \\\n",
       "0                    75.912471  19-03-2022    11:30:00          11:45:00   \n",
       "1                    77.813237  25-03-2022    19:45:00          19:50:00   \n",
       "2                    77.688400  19-03-2022    08:30:00          08:45:00   \n",
       "3                    77.026494  05-04-2022    18:00:00          18:10:00   \n",
       "4                    80.289982  26-03-2022    13:30:00          13:45:00   \n",
       "\n",
       "       Weatherconditions Road_traffic_density  Vehicle_condition  \\\n",
       "0       conditions Sunny                High                 2.0   \n",
       "1      conditions Stormy                 Jam                 2.0   \n",
       "2  conditions Sandstorms                 Low                 0.0   \n",
       "3       conditions Sunny              Medium                 0.0   \n",
       "4      conditions Cloudy                High                 1.0   \n",
       "\n",
       "  Type_of_order Type_of_vehicle multiple_deliveries Festival            City  \\\n",
       "0        Snack      motorcycle                    0      No           Urban    \n",
       "1        Snack         scooter                    1      No   Metropolitian    \n",
       "2       Drinks      motorcycle                    1      No           Urban    \n",
       "3       Buffet      motorcycle                    1      No   Metropolitian    \n",
       "4        Snack         scooter                    1      No   Metropolitian    \n",
       "\n",
       "  Time_taken(min)  \n",
       "0        (min) 24  \n",
       "1        (min) 33  \n",
       "2        (min) 26  \n",
       "3        (min) 21  \n",
       "4        (min) 30  "
      ]
     },
     "execution_count": 38,
     "metadata": {},
     "output_type": "execute_result"
    }
   ],
   "source": [
    "df = pd.read_csv('D:/Estudos/Analise-de-dados/Projetos/datasets/train.csv')\n",
    "df.head()"
   ]
  },
  {
   "cell_type": "markdown",
   "metadata": {
    "id": "rE3MnY_bVn6h"
   },
   "source": [
    "# Limpeza de dados"
   ]
  },
  {
   "cell_type": "code",
   "execution_count": 45,
   "metadata": {
    "colab": {
     "base_uri": "https://localhost:8080/"
    },
    "collapsed": true,
    "id": "4hZCIZ3o1vrQ",
    "jupyter": {
     "outputs_hidden": true,
     "source_hidden": true
    },
    "outputId": "c038a99d-562a-47b6-9c97-a59b939c5d77",
    "scrolled": true
   },
   "outputs": [
    {
     "name": "stdout",
     "output_type": "stream",
     "text": [
      "['Urban' 'Metropolitian' 'Semi-Urban']\n",
      "0       0x4607\n",
      "1       0xb379\n",
      "2       0x5d6d\n",
      "3       0x7a6a\n",
      "4       0x70a2\n",
      "         ...  \n",
      "7748    0xb219\n",
      "7749    0x8c17\n",
      "7750    0xccee\n",
      "7751    0x22d0\n",
      "7753    0xbc0f\n",
      "Name: ID, Length: 7061, dtype: object\n"
     ]
    }
   ],
   "source": [
    "# Limpeza dos dados para melhorar o uso da base de dados\n",
    "# Conversão da coluna Delivery_person_Age de string para int\n",
    "df['Delivery_person_Age'] = pd.to_numeric(df['Delivery_person_Age'],errors='coerce') # Converte a coluna 'delivery_person_age' para float e coloca 'NaN' para qualquer valor diferente de número\n",
    "df.dropna(subset=['Delivery_person_Age'],inplace=True) # Remove as linhas que tiver 'NaN'\n",
    "df['Delivery_person_Age'] = df['Delivery_person_Age'].astype('int8') # Transforma o tipo de float para int8\n",
    "# print(df['Delivery_person_Age'].dtypes)\n",
    "\n",
    "# Conversão da coluna Delivery_person_Ratings de string para float\n",
    "df['Delivery_person_Ratings'] = pd.to_numeric(df['Delivery_person_Ratings'],errors='coerce') # Converte a coluna 'delivery_person_ratings' para float e coloca 'NaN' para qualquer valor diferente de número\n",
    "df.dropna(subset=['Delivery_person_Ratings'],inplace=True) # Remove as linhas que tiver 'NaN'\n",
    "df['Delivery_person_Ratings'] = df['Delivery_person_Ratings'].astype('float16') # Transforma o tipo de float para float16\n",
    "# print(df['Delivery_person_Ratings'].dtypes)\n",
    "\n",
    "# Conversão da coluna Order_Date de string para datetime\n",
    "df['Order_Date'] = pd.to_datetime(df['Order_Date'],format='%d-%m-%Y')\n",
    "# print(type(df['Order_Date'][0]))\n",
    "\n",
    "# Conversão da coluna multiple_deliveries de string para int\n",
    "df['multiple_deliveries'] = pd.to_numeric(df['multiple_deliveries'],errors = 'coerce') # Converte a coluna 'multiple_deliveries' para float e coloca 'NaN' para qualquer valor diferente de número\n",
    "df.dropna(subset=['multiple_deliveries'], inplace=True) # Remove as linhas que tiver 'NaN'\n",
    "df['multiple_deliveries'] = df['multiple_deliveries'].astype('int8') # Transforma de float para int8\n",
    "# print(df['multiple_deliveries'].dtypes)\n",
    "\n",
    "# Remover espaços em branco no final das strings de algumas colunas\n",
    "df['ID'] = df['ID'].str.strip()\n",
    "df['Road_traffic_density'] = df['Road_traffic_density'].str.strip()\n",
    "df['Type_of_order'] = df['Type_of_order'].str.strip()\n",
    "df['Type_of_vehicle'] = df['Type_of_vehicle'].str.strip()\n",
    "df['City'] = df['City'].str.strip()\n",
    "df['Festival'] = df['Festival'].str.strip()\n",
    "\n",
    "# Remover NaN da coluna de City\n",
    "df['City'] = df['City'].replace('NaN',np.nan)\n",
    "df.dropna(subset=['City'], inplace=True)\n",
    "print(df['City'].unique())\n",
    "\n",
    "# remover NaN da coluna Weatherconditions\n",
    "df.dropna(subset=['Weatherconditions'],inplace=True)\n",
    "\n",
    "# Remover NaN da coluna road_traffic_density\n",
    "df['Road_traffic_density'] = df['Road_traffic_density'].replace('NaN',np.nan)\n",
    "df.dropna(subset=['Road_traffic_density'],inplace=True)\n",
    "\n",
    "# transformar Time_taken(min) para número\n",
    "df['Time_taken(min)'] = df['Time_taken(min)'].apply(lambda x: x.split('(min) ')[1])\n",
    "df['Time_taken(min)'] = df['Time_taken(min)'].astype('int8')\n",
    "print(df['ID'])"
   ]
  },
  {
   "cell_type": "markdown",
   "metadata": {
    "id": "FdPitVwAVRuw",
    "jupyter": {
     "source_hidden": true
    }
   },
   "source": [
    "# Primera Atividade\n"
   ]
  },
  {
   "cell_type": "code",
   "execution_count": 4,
   "metadata": {
    "colab": {
     "base_uri": "https://localhost:8080/"
    },
    "collapsed": true,
    "id": "nKk1YDMw7Jn9",
    "jupyter": {
     "outputs_hidden": true,
     "source_hidden": true
    },
    "outputId": "f36da203-e810-4c77-8e71-6a778a129bb4",
    "scrolled": true
   },
   "outputs": [
    {
     "name": "stdout",
     "output_type": "stream",
     "text": [
      "['motorcycle', 'scooter', 'electric_scooter']\n"
     ]
    },
    {
     "data": {
      "text/plain": [
       "['Snack', 'Meal', 'Buffet', 'Drinks']"
      ]
     },
     "execution_count": 4,
     "metadata": {},
     "output_type": "execute_result"
    }
   ],
   "source": [
    "# Primeiras ativdades de dataframe\n",
    "# 1. Qual o valor da informação armazenada na linha 30 e na coluna 10?\n",
    "df.iloc[30, 10]\n",
    "\n",
    "# 2. Selecione as linhas 0 a 20 e as colunas 0 a 2\n",
    "df.iloc[0:21,0:3]\n",
    "\n",
    "# 3. Selecione as linhas 5 até 30 e somente a coluna 'Delvery_person_Age'\n",
    "df.loc[5:30,['Delivery_person_Age']]\n",
    "\n",
    "# 4. Selecione as linhas 40 a 42 e as seguintes colunas: “Restaurant_latitude”,“Restaurant_longitude”, \"Delivery_location_latitude”,“Delivery_location_longitude”\n",
    "df.loc[40:42,['Restaurant_latitude','Restaurant_longitude','Delivery_location_latitude','Delivery_location_longitude']]\n",
    "\n",
    "# 5. Qual a menor data de entrega da coluna “Order_Date” entre as linhas 0 a 50?\n",
    "aux = df.loc[:50,['Order_Date']]\n",
    "aux.min()\n",
    "\n",
    "# 6. Qual a menor data de entrega da coluna “ Time_Orderd ” entre as linhas 0 a 50?\n",
    "aux = df.loc[:50,['Time_Orderd']]\n",
    "aux.min()\n",
    "\n",
    "# 7. Quais os nomes únicos da coluna “City” entre as linhas 50 e 70?\n",
    "df.loc[50:70,'City'].unique().tolist()\n",
    "\n",
    "# 8. Quais os nomes únicos da coluna “Weatherconditions” entre as linhas 0 e 10?\n",
    "df.loc[:10,'Weatherconditions'].unique().tolist()\n",
    "\n",
    "# 9. Quais os tipos de densidade de trânsito presente na coluna “Road_traffic_density ” entre as linhas 0 a 20?\n",
    "df.loc[:20,'Road_traffic_density'].unique().tolist()\n",
    "\n",
    "# 10. Qual o ID do entregador de comida mais velho entre as colunas 50 e 70?\n",
    "aux = df.loc[50:70,['Delivery_person_Age']]\n",
    "aux.max()\n",
    "\n",
    "# 11. Qual o ID do entregador de comida com a melhor avaliação de entrega entre as colunas 50 e 70?\n",
    "df1 = df.loc[50:70,['ID','Delivery_person_Ratings']]\n",
    "df1.loc[df1['Delivery_person_Ratings'].idxmax(),'ID']\n",
    "\n",
    "# 12. Quais os tipos de veículos utilizados pelos entregadores entre as linhas 0 a 30?\n",
    "print(df.loc[:30,'Type_of_vehicle'].unique().tolist())\n",
    "\n",
    "# 13. Quais os tipos de pedidos único que foram entregues entre as colunas 100 e 120?\n",
    "df.loc[100:120,'Type_of_order'].unique().tolist()"
   ]
  },
  {
   "cell_type": "markdown",
   "metadata": {
    "id": "_VAy-TgKVVi0",
    "jupyter": {
     "source_hidden": true
    }
   },
   "source": [
    "# Segunda Atividade"
   ]
  },
  {
   "cell_type": "code",
   "execution_count": null,
   "metadata": {
    "colab": {
     "base_uri": "https://localhost:8080/"
    },
    "collapsed": true,
    "id": "eR9TAdPc1Jb2",
    "jupyter": {
     "outputs_hidden": true,
     "source_hidden": true
    },
    "outputId": "34df55fe-f7a7-47db-f949-eb60b3b37c09"
   },
   "outputs": [
    {
     "name": "stdout",
     "output_type": "stream",
     "text": [
      "Quantidade de entregas feitas por tipo de densidade de tráfego:\n",
      "Road_traffic_density\n",
      "High       732\n",
      "Jam       2332\n",
      "Low       2431\n",
      "Medium    1757\n",
      "NaN         12\n",
      "Name: ID, dtype: int64\n"
     ]
    }
   ],
   "source": [
    "# Mais atividades do uso de dataframes\n",
    "# 1. Qual o número total de entregadores cadastrados na base de dados?\n",
    "# delivery_people_count = df['Delivery_person_ID'].count()\n",
    "# print(delivery_people_count)\n",
    "\n",
    "# 2. Qual o número total de entregadores únicos cadastrados na base de dados?\n",
    "# delivery_people_unique = df['Delivery_person_ID'].nunique()\n",
    "# print(delivery_people_unique)\n",
    "\n",
    "# 3. Qual a média de idade dos entregadores por cidade?\n",
    "# print('Média agrupada por cidade\\n',df.groupby('City')['Delivery_person_Age'].mean(),'\\n')\n",
    "\n",
    "# 4. Qual a mediana de idade dos entregadores por cidade?\n",
    "# print('Mediana agrupada por cidade\\n',df.groupby('City')['Delivery_person_Age'].median(),'\\n')\n",
    "\n",
    "# 5. Qual o número total de entregas feitas por densidade de tráfego?\n",
    "# print('Quantidade de entregas realizadas por densidade de tráfego\\n',df.groupby('Road_traffic_density')['ID'].count())\n",
    "\n",
    "# 6. Qual a média das avaliações das entregas feitas por densidade de tráfego?\n",
    "# print('Média de avaliações agrupada por densidade de tráfego\\n',df.groupby('Road_traffic_density')['Delivery_person_Ratings'].mean())\n",
    "\n",
    "# 7. Qual a quantidade de entregas feitas por cidade?\n",
    "# print('Quantidade de entregas feitas por cidade\\n',df.groupby('City')['ID'].count())\n",
    "\n",
    "# 8. Qual a quantidade das entregas feitas por cidade e por tipo de veículo?\n",
    "# print('Média de entregas feitas por cidade e tipo de veículo:')\n",
    "# print(df.groupby(['City','Type_of_vehicle'])['ID'].count())\n",
    "\n",
    "# 9. Qual o pedido mais antigo por cada cidade?\n",
    "# print('Primeira data de entrega de cada cidade')\n",
    "# print( df.groupby('City')['Order_Date'].min())\n",
    "\n",
    "# 10. Qual a última data de entrega por cada cidade?\n",
    "# print('Última data de entrega de cada cidade')\n",
    "# print( df.groupby('City')['Order_Date'].max())\n",
    "\n",
    "# 11. Qual a média de avaliações das entregas feitas por condições climáticas?\n",
    "# print('Média das avaliações por condições climáticas')\n",
    "# print(df.groupby('Weatherconditions')['Delivery_person_Ratings'].mean())\n",
    "\n",
    "# 12. Qual o valor da avaliação mais baixa feita por tipo de condição climática e por densidade de tráfego?\n",
    "# print('Menor avaliação por condição climática e densidade de tráfego')\n",
    "# print(df.groupby(['Weatherconditions','Road_traffic_density'])['Delivery_person_Ratings'].min())\n",
    "\n",
    "# 13. Quantas entregas foram feitas no Festival?\n",
    "# festival_yes_count = df[df['Festival'] == 'Yes'].shape[0]\n",
    "# print(f'Quantidade de entregas feitas no festival: {festival_count}')\n",
    "\n",
    "# 14. Qual a avaliação média das entregas feitas no Festival?\n",
    "# media_avaliacoes_festival_yes = df[df['Festival'] == 'Yes']['Delivery_person_Ratings'].mean()\n",
    "# print(df[df['Festival'] == 'Yes']['Delivery_person_Ratings'])\n",
    "# print(f'Média de avaliações das entregas feitas no festival: {media_avaliacoes_festival_yes:.2f}')\n",
    "\n",
    "# 15.\n",
    "# menor_avaliacao_por_cidade = df[df['Festival'] == 'Yes'].groupby('City')['Delivery_person_Ratings'].min()\n",
    "# print(f'Menor avaliação por cidade: {menor_avaliacao_por_cidade:}')\n",
    "\n",
    "# 16. Qual a maior avaliação feita por tipo de pedido?\n",
    "# maior_avaliacao_por_tipo_pedido = df.groupby('Type_of_order')['Delivery_person_Ratings'].max()\n",
    "# print(f'Maior avaliação por tipo de pedido:\\n{maior_avaliacao_por_tipo_pedido}')\n",
    "\n",
    "# 17. Qual a idade do entregador mais velho da planilha de dados?\n",
    "# idade_entregador_mais_velho = df['Delivery_person_Age'].max()\n",
    "# print(f'Idade do entregador mais velho: {idade_entregador_mais_velho}')\n",
    "\n",
    "# 18. Qual a idade do entregador mais novo da planilha de dados?\n",
    "# idade_entregador_mais_novo = df['Delivery_person_Age'].min()\n",
    "# print(f'Idade do entregador mais velho: {idade_entregador_mais_velho}')\n",
    "\n",
    "# 19. Quantas entregas foram feitas em cada condição climática?\n",
    "# qtd_entregas_por_condicao_climatica = df.groupby('Weatherconditions')['ID'].count()\n",
    "# print(f'Quantidade de entregas feitas em cada condição climática:\\n{qtd_entregas_por_condicao_climatica}')\n",
    "\n",
    "# 20.\n",
    "# qtd_entregas_por_tipo_densidade_transito = df.groupby('Road_traffic_density')['ID'].count()\n",
    "# print(f'Quantidade de entregas feitas por tipo de densidade de tráfego:\\n{qtd_entregas_por_tipo_densidade_transito}')"
   ]
  },
  {
   "cell_type": "markdown",
   "metadata": {
    "id": "Q-WI_Ay38h0t",
    "jupyter": {
     "source_hidden": true
    }
   },
   "source": [
    "# Terceira atividade"
   ]
  },
  {
   "cell_type": "code",
   "execution_count": 7,
   "metadata": {
    "colab": {
     "base_uri": "https://localhost:8080/"
    },
    "collapsed": true,
    "id": "WGiMjtcG8lru",
    "jupyter": {
     "outputs_hidden": true,
     "source_hidden": true
    },
    "outputId": "a10e396c-a8c5-4565-eb72-35a1498081c3",
    "scrolled": true
   },
   "outputs": [
    {
     "name": "stdout",
     "output_type": "stream",
     "text": [
      "     Delivery_person_ID week_of_year  qtd_deliveries\n",
      "0       AGRRES010DEL01            07               3\n",
      "1       AGRRES010DEL02            07               2\n",
      "2       AGRRES010DEL03            06               1\n",
      "3        AGRRES01DEL02            06               1\n",
      "4        AGRRES01DEL02            07               1\n",
      "...                 ...          ...             ...\n",
      "3982     VADRES20DEL02            13               1\n",
      "3983     VADRES20DEL02            14               2\n",
      "3984     VADRES20DEL03            10               1\n",
      "3985     VADRES20DEL03            11               1\n",
      "3986     VADRES20DEL03            12               1\n",
      "\n",
      "[3987 rows x 3 columns]\n"
     ]
    },
    {
     "name": "stderr",
     "output_type": "stream",
     "text": [
      "C:\\Users\\gugui\\AppData\\Local\\Temp\\ipykernel_4248\\488667511.py:61: UserWarning: FigureCanvasAgg is non-interactive, and thus cannot be shown\n",
      "  fig.show()\n"
     ]
    },
    {
     "data": {
      "image/png": "[encoded data removed]",
      "text/plain": [
       "<Figure size 1500x600 with 1 Axes>"
      ]
     },
     "metadata": {},
     "output_type": "display_data"
    },
    {
     "data": {
      "image/png": "[encoded data removed]",
      "text/plain": [
       "<Figure size 640x480 with 1 Axes>"
      ]
     },
     "metadata": {},
     "output_type": "display_data"
    },
    {
     "data": {
      "image/png": "[encoded data removed]",
      "text/plain": [
       "<Figure size 640x480 with 1 Axes>"
      ]
     },
     "metadata": {},
     "output_type": "display_data"
    },
    {
     "data": {
      "image/png": "[encoded data removed]",
      "text/plain": [
       "<Figure size 900x780 with 1 Axes>"
      ]
     },
     "metadata": {},
     "output_type": "display_data"
    },
    {
     "data": {
      "image/png": "[encoded data removed]",
      "text/plain": [
       "<Figure size 1600x500 with 1 Axes>"
      ]
     },
     "metadata": {},
     "output_type": "display_data"
    }
   ],
   "source": [
    "# import da biblioteca de graficos\n",
    "# import plotly.express as px\n",
    "import matplotlib.pyplot as plt\n",
    "# 1. Qual a quantidade de pedidos feitos por dia?\n",
    "aux = df.groupby('Order_Date')['ID'].count().reset_index()\n",
    "# print(f'{aux}')\n",
    "# px.bar(aux,x='Order_Date',y='ID\n",
    "#aux['Order_date\n",
    "plt.figure(figsize=(15,6))\n",
    "plt.xlabel('day')\n",
    "plt.ylabel('ID quantity')\n",
    "plt.bar(aux['Order_Date'].values,aux['ID'])\n",
    "\n",
    "# 2. Qual a quantidade de pedidos por semana?\n",
    "# criar coluna week_of_year\n",
    "df['week_of_year'] = df['Order_Date'].dt.strftime('%U') # cria a coluna 'week_of_year' e o dt.strftime('%U') elenca segunda-feira como o primeiro dia da semana\n",
    "pedidos_por_semana = df.groupby('week_of_year')['ID'].count().reset_index()\n",
    "# disclaimer: na base de dados só há informações do ano de 2022, caso existisse outro ano, uma coluna de ano deveria ser adcionada ao dataframe, para que o groupby seja por semana do ano e ano\n",
    "# print(f'{pedidos_por_semana}')\n",
    "#px.line(pedidos_por_semana,x='week_of_year',y='ID').show\n",
    "plt.figure()\n",
    "plt.xlabel('Week of year')\n",
    "plt.ylabel('ID quantity')\n",
    "plt.grid()\n",
    "plt.plot(pedidos_por_semana['week_of_year'],pedidos_por_semana['ID'],marker='o',markerfacecolor='green',linestyle='-',color='blue')\n",
    "\n",
    "# 3. Distribuição relativa dos IDs por densidade de tráfego\n",
    "pedidos_por_tipo_de_trafego = df.groupby('Road_traffic_density')['ID'].count().reset_index()\n",
    "soma_total = pedidos_por_tipo_de_trafego.sum()['ID']\n",
    "percentual_relativo = pedidos_por_tipo_de_trafego['ID']/soma_total*100\n",
    "pedidos_por_tipo_de_trafego['Percentual_relativo'] = percentual_relativo\n",
    "# print(pedidos_por_tipo_de_trafego[['Road_traffic_density','Percentual_relativo']])\n",
    "# px.pie(pedidos_por_tipo_de_trafego,names='Road_traffic_density',values='Percentual_relativo')\n",
    "plt.figure()\n",
    "plt.pie(percentual_relativo, labels=pedidos_por_tipo_de_trafego['Road_traffic_density'])\n",
    "\n",
    "# 4. Volume de entregas por cidade e densidade de tráfego\n",
    "qtd_pedidos_cidade_trafego = df.groupby(['City','Road_traffic_density'])['ID'].count().reset_index()\n",
    "# print(qtd_pedidos_cidade_trafego)\n",
    "# px.scatter(qtd_pedidos_cidade_trafego,x='City',y='Road_traffic_density',size='ID',color='City',log_x=True,size_max=60).show()\n",
    "unique_cities = qtd_pedidos_cidade_trafego['City'].unique()\n",
    "city_color_mapping = {city: i for i, city in enumerate(unique_cities)}\n",
    "#print(city_color_mapping,type(city_color_mapping))\n",
    "qtd_pedidos_cidade_trafego['colors'] = qtd_pedidos_cidade_trafego['City'].map(city_color_mapping)\n",
    "#print(qtd_pedidos_cidade_trafego)\n",
    "plt.figure(figsize=(9,7.8))\n",
    "plt.ylabel('Road traffic density')\n",
    "plt.xlabel('City')\n",
    "plt.title('count of IDs grouped by city and traffic density')\n",
    "plt.scatter(qtd_pedidos_cidade_trafego['City'],qtd_pedidos_cidade_trafego['Road_traffic_density'],s=qtd_pedidos_cidade_trafego['ID'],c=qtd_pedidos_cidade_trafego['colors'])\n",
    "\n",
    "# 5. Quantidade de entregas de cada entregador por semana\n",
    "qtd_entregas_por_entregador_por_semana = df.groupby(['Delivery_person_ID','week_of_year'])['ID'].count().reset_index()\n",
    "qtd_entregas_por_entregador_por_semana.rename(columns={'ID':'qtd_deliveries'},inplace=True)\n",
    "print(qtd_entregas_por_entregador_por_semana)"
   ]
  },
  {
   "cell_type": "markdown",
   "metadata": {
    "id": "YQHnx31LCoWR",
    "jupyter": {
     "source_hidden": true
    }
   },
   "source": [
    "# Quarta atividade"
   ]
  },
  {
   "cell_type": "code",
   "execution_count": 99,
   "metadata": {
    "colab": {
     "base_uri": "https://localhost:8080/"
    },
    "collapsed": true,
    "id": "ubpvpDlZC4Sj",
    "jupyter": {
     "outputs_hidden": true,
     "source_hidden": true
    },
    "outputId": "50ccb506-9fec-4850-a7cb-53a6c26ace3d"
   },
   "outputs": [
    {
     "name": "stdout",
     "output_type": "stream",
     "text": [
      "    Delivery_person_ID  Time_taken(min)\n",
      "36     PUNERES18DEL01                10\n",
      "75      HYDRES13DEL03                10\n",
      "378  RANCHIRES12DEL03                10\n",
      "485     ALHRES08DEL03                10\n",
      "611     ALHRES19DEL03                10\n",
      "644    PUNERES12DEL01                10\n",
      "746     SURRES08DEL03                10\n",
      "750     HYDRES18DEL03                10\n",
      "784     SURRES05DEL02                10\n",
      "806     MYSRES18DEL01                10\n",
      "     Delivery_person_ID  Time_taken(min)\n",
      "188      MYSRES04DEL03                54\n",
      "641     LUDHRES18DEL03                54\n",
      "2373    CHENRES04DEL01                54\n",
      "3103     JAPRES09DEL01                54\n",
      "3711     MYSRES11DEL03                54\n",
      "4585  RANCHIRES15DEL03                54\n",
      "4649    PUNERES09DEL01                54\n",
      "5061     MUMRES12DEL01                54\n",
      "5442     JAPRES12DEL02                54\n",
      "5596   COIMBRES16DEL02                54\n"
     ]
    }
   ],
   "source": [
    "# 1. Menor e maior idade dos entregadores\n",
    "menor_idade = df['Delivery_person_Age'].min()\n",
    "maior_idade = df['Delivery_person_Age'].max()\n",
    "# print(f'Menor idade: {menor_idade}')\n",
    "# print(f'Maior idade: {maior_idade}')\n",
    "\n",
    "# 2.\n",
    "pior_condicao = df['Vehicle_condition'].min()\n",
    "melhor_condicao = df['Vehicle_condition'].max()\n",
    "# print(f'Pior condição: {pior_condicao}')\n",
    "# print(f'Melhor condição: {melhor_condicao}')\n",
    "\n",
    "# 3. Media de avaliação por entregador\n",
    "avaliacao_media_por_entregador = df.groupby('Delivery_person_ID')['Delivery_person_Ratings'].mean().reset_index()\n",
    "# print(avaliacao_media_por_entregador)\n",
    "\n",
    "# 4. Desvio padrão e média de avaliações por densidade de tráfego\n",
    "avaliacao_media_por_densidade = df_without_NaN.groupby('Road_traffic_density')['Delivery_person_Ratings'].std().reset_index()\n",
    "avaliacao_media_por_densidade['Media'] = df_without_NaN.groupby('Road_traffic_density')['Delivery_person_Ratings'].mean().reset_index()['Delivery_person_Ratings']\n",
    "avaliacao_media_por_densidade.rename(columns={'Delivery_person_Ratings':'Desvio_Padrao'},inplace=True)\n",
    "# print(avaliacao_media_por_densidade)\n",
    "\n",
    "# 5. Desvio padrão e média de avaliações por condições climáticas\n",
    "avaliacao_media_por_condicoes_climaticas = df_without_NaN.groupby('Weatherconditions')['Delivery_person_Ratings'].std().reset_index()\n",
    "avaliacao_media_por_condicoes_climaticas['Media'] = df_without_NaN.groupby('Weatherconditions')['Delivery_person_Ratings'].mean().reset_index()['Delivery_person_Ratings']\n",
    "avaliacao_media_por_condicoes_climaticas.rename(columns={'Delivery_person_Ratings':'Desvio_Padrao'},inplace=True)\n",
    "# print(avaliacao_media_por_condicoes_climaticas)\n",
    "\n",
    "# 6. Os dez entregadores mais rápidos\n",
    "dez_mais_rapidos = df.nsmallest(10,'Time_taken(min)')\n",
    "print(dez_mais_rapidos[['Delivery_person_ID','Time_taken(min)']])\n",
    "\n",
    "# 7. Os dez entregadores mais lentos\n",
    "dez_mais_lentos = df.nlargest(10,'Time_taken(min)')\n",
    "print(dez_mais_lentos[['Delivery_person_ID','Time_taken(min)']])"
   ]
  },
  {
   "cell_type": "markdown",
   "metadata": {
    "jupyter": {
     "source_hidden": true
    }
   },
   "source": [
    "# Quinta atividade - visão do restaurante"
   ]
  },
  {
   "cell_type": "code",
   "execution_count": 5,
   "metadata": {
    "collapsed": true,
    "jupyter": {
     "outputs_hidden": true
    }
   },
   "outputs": [
    {
     "name": "stdout",
     "output_type": "stream",
     "text": [
      "             City Road_traffic_density      Media  Desvio_padrao\n",
      "0   Metropolitian                 High  28.267025       8.035292\n",
      "1   Metropolitian                  Jam  31.886615       9.555296\n",
      "2   Metropolitian                  Low  22.574020       7.051329\n",
      "3   Metropolitian               Medium  28.047794       8.383640\n",
      "4   Metropolitian                  NaN  21.666667       4.663690\n",
      "5             NaN                 High  22.000000       6.771790\n",
      "6             NaN                  Jam  24.196078      10.198077\n",
      "7             NaN                  Low  19.623377       6.716122\n",
      "8             NaN               Medium  24.770833       8.145589\n",
      "9      Semi-Urban                 High  49.333333       3.511885\n",
      "10     Semi-Urban                  Jam  50.238095       2.718543\n",
      "11     Semi-Urban               Medium  47.666667       1.527525\n",
      "12          Urban                 High  23.717949       8.484365\n",
      "13          Urban                  Jam  27.736726      10.414010\n",
      "14          Urban                  Low  19.358140       6.331459\n",
      "15          Urban               Medium  22.869942       8.333127\n",
      "16          Urban                  NaN  20.000000       5.000000\n",
      "Tempo médio de entrega durante festival: 44.93\n"
     ]
    }
   ],
   "source": [
    "# Quantidade de entregadores únicos\n",
    "qtd_entregadores_unicos = df['Delivery_person_ID'].nunique()\n",
    "#print(f'Quantidade de entregadores únicos: {qtd_entregadores_unicos}')\n",
    "\n",
    "# A distância média dos restaurantes e dos locais de entrega\n",
    "cols = ['Restaurant_latitude','Restaurant_longitude','Delivery_location_latitude','Delivery_location_longitude']\n",
    "df['Distancia_entre_restaurante_entrega'] = df.loc[:,cols].apply( lambda x: hs.haversine((x['Restaurant_latitude'],x['Restaurant_longitude']),(x['Delivery_location_latitude'],x['Delivery_location_longitude'])),axis=1)\n",
    "#print(df['Distancia_entre_restaurante_entrega'])\n",
    "\n",
    "# Tempo médio e o desvio padrão de entregas por cidade\n",
    "df_aux = pd.DataFrame()\n",
    "df_aux['City'] = df['City'].unique()\n",
    "df_aux['Media'] = df.groupby('City')['Time_taken(min)'].mean().reset_index()['Time_taken(min)']\n",
    "df_aux['Desvio_padrao'] = df.groupby('City')['Time_taken(min)'].std().reset_index()['Time_taken(min)']\n",
    "#print(df_aux)\n",
    "\n",
    "# Tempo médio e desvio padrão de entregas por cidade e tipo de pedido\n",
    "df_aux1 = df.groupby(['City','Type_of_order'])['Time_taken(min)'].mean().reset_index()\n",
    "df_aux1.rename(columns={'Time_taken(min)':'Media'},inplace=True)\n",
    "df_aux1['Desvio_padrao'] = df.groupby(['City','Type_of_order'])['Time_taken(min)'].std().reset_index()['Time_taken(min)']\n",
    "#print(df_aux1)\n",
    "\n",
    "# Tempo médio e desvio padrão de entregas por cidade e tipo de tráfego\n",
    "df_aux2 = pd.DataFrame()\n",
    "df_aux2 = df.groupby(['City','Road_traffic_density'])['Time_taken(min)'].mean().reset_index()\n",
    "df_aux2.rename(columns={'Time_taken(min)':'Media'},inplace=True)\n",
    "df_aux2['Desvio_padrao'] = df.groupby(['City','Road_traffic_density'])['Time_taken(min)'].std().reset_index()['Time_taken(min)']\n",
    "print(df_aux2)\n",
    "\n",
    "# Tempo médio de entrega durante períodos de festival\n",
    "df_festival_on = df[df['Festival'] == 'Yes']\n",
    "df_aux3 = df_festival_on['Time_taken(min)'].mean()\n",
    "print(f'Tempo médio de entrega durante festival: {df_aux3:.2f}')"
   ]
  },
  {
   "cell_type": "code",
   "execution_count": 14,
   "metadata": {
    "collapsed": true,
    "jupyter": {
     "outputs_hidden": true,
     "source_hidden": true
    }
   },
   "outputs": [
    {
     "data": {
      "text/html": [
       "<div style=\"width:100%;\"><div style=\"position:relative;width:100%;height:0;padding-bottom:60%;\"><span style=\"color:#565656\">Make this Notebook Trusted to load map: File -> Trust Notebook</span><iframe srcdoc=\"&lt;!DOCTYPE html&gt;\n",
       "&lt;html&gt;\n",
       "&lt;head&gt;\n",
       "    \n",
       "    &lt;meta http-equiv=&quot;content-type&quot; content=&quot;text/html; charset=UTF-8&quot; /&gt;\n",
       "    \n",
       "        &lt;script&gt;\n",
       "            L_NO_TOUCH = false;\n",
       "            L_DISABLE_3D = false;\n",
       "        &lt;/script&gt;\n",
       "    \n",
       "    &lt;style&gt;html, body {width: 100%;height: 100%;margin: 0;padding: 0;}&lt;/style&gt;\n",
       "    &lt;style&gt;#map {position:absolute;top:0;bottom:0;right:0;left:0;}&lt;/style&gt;\n",
       "    &lt;script src=&quot;https://cdn.jsdelivr.net/npm/leaflet@1.9.3/dist/leaflet.js&quot;&gt;&lt;/script&gt;\n",
       "    &lt;script src=&quot;https://code.jquery.com/jquery-3.7.1.min.js&quot;&gt;&lt;/script&gt;\n",
       "    &lt;script src=&quot;https://cdn.jsdelivr.net/npm/bootstrap@5.2.2/dist/js/bootstrap.bundle.min.js&quot;&gt;&lt;/script&gt;\n",
       "    &lt;script src=&quot;https://cdnjs.cloudflare.com/ajax/libs/Leaflet.awesome-markers/2.0.2/leaflet.awesome-markers.js&quot;&gt;&lt;/script&gt;\n",
       "    &lt;link rel=&quot;stylesheet&quot; href=&quot;https://cdn.jsdelivr.net/npm/leaflet@1.9.3/dist/leaflet.css&quot;/&gt;\n",
       "    &lt;link rel=&quot;stylesheet&quot; href=&quot;https://cdn.jsdelivr.net/npm/bootstrap@5.2.2/dist/css/bootstrap.min.css&quot;/&gt;\n",
       "    &lt;link rel=&quot;stylesheet&quot; href=&quot;https://netdna.bootstrapcdn.com/bootstrap/3.0.0/css/bootstrap-glyphicons.css&quot;/&gt;\n",
       "    &lt;link rel=&quot;stylesheet&quot; href=&quot;https://cdn.jsdelivr.net/npm/@fortawesome/fontawesome-free@6.2.0/css/all.min.css&quot;/&gt;\n",
       "    &lt;link rel=&quot;stylesheet&quot; href=&quot;https://cdnjs.cloudflare.com/ajax/libs/Leaflet.awesome-markers/2.0.2/leaflet.awesome-markers.css&quot;/&gt;\n",
       "    &lt;link rel=&quot;stylesheet&quot; href=&quot;https://cdn.jsdelivr.net/gh/python-visualization/folium/folium/templates/leaflet.awesome.rotate.min.css&quot;/&gt;\n",
       "    \n",
       "            &lt;meta name=&quot;viewport&quot; content=&quot;width=device-width,\n",
       "                initial-scale=1.0, maximum-scale=1.0, user-scalable=no&quot; /&gt;\n",
       "            &lt;style&gt;\n",
       "                #map_769cda903ef75b63e884a7ae22dc0f01 {\n",
       "                    position: relative;\n",
       "                    width: 100.0%;\n",
       "                    height: 100.0%;\n",
       "                    left: 0.0%;\n",
       "                    top: 0.0%;\n",
       "                }\n",
       "                .leaflet-container { font-size: 1rem; }\n",
       "            &lt;/style&gt;\n",
       "        \n",
       "&lt;/head&gt;\n",
       "&lt;body&gt;\n",
       "    \n",
       "    \n",
       "            &lt;div class=&quot;folium-map&quot; id=&quot;map_769cda903ef75b63e884a7ae22dc0f01&quot; &gt;&lt;/div&gt;\n",
       "        \n",
       "&lt;/body&gt;\n",
       "&lt;script&gt;\n",
       "    \n",
       "    \n",
       "            var map_769cda903ef75b63e884a7ae22dc0f01 = L.map(\n",
       "                &quot;map_769cda903ef75b63e884a7ae22dc0f01&quot;,\n",
       "                {\n",
       "                    center: [0.0, 0.0],\n",
       "                    crs: L.CRS.EPSG3857,\n",
       "                    zoom: 1,\n",
       "                    zoomControl: true,\n",
       "                    preferCanvas: false,\n",
       "                }\n",
       "            );\n",
       "\n",
       "            \n",
       "\n",
       "        \n",
       "    \n",
       "            var tile_layer_06295976300867deef54693f7703c2a4 = L.tileLayer(\n",
       "                &quot;https://tile.openstreetmap.org/{z}/{x}/{y}.png&quot;,\n",
       "                {&quot;attribution&quot;: &quot;\\u0026copy; \\u003ca href=\\&quot;https://www.openstreetmap.org/copyright\\&quot;\\u003eOpenStreetMap\\u003c/a\\u003e contributors&quot;, &quot;detectRetina&quot;: false, &quot;maxNativeZoom&quot;: 19, &quot;maxZoom&quot;: 19, &quot;minZoom&quot;: 0, &quot;noWrap&quot;: false, &quot;opacity&quot;: 1, &quot;subdomains&quot;: &quot;abc&quot;, &quot;tms&quot;: false}\n",
       "            );\n",
       "        \n",
       "    \n",
       "            tile_layer_06295976300867deef54693f7703c2a4.addTo(map_769cda903ef75b63e884a7ae22dc0f01);\n",
       "        \n",
       "    \n",
       "            var marker_27000edf8037b0c2f4d3f0e971d155d6 = L.marker(\n",
       "                [18.545321, 76.347821],\n",
       "                {}\n",
       "            ).addTo(map_769cda903ef75b63e884a7ae22dc0f01);\n",
       "        \n",
       "    \n",
       "        var popup_8be387585191803aa492a30839c14b6e = L.popup({&quot;maxWidth&quot;: &quot;100%&quot;});\n",
       "\n",
       "        \n",
       "            \n",
       "                var html_68d6923bf51592c3722fed8c438236d5 = $(`&lt;div id=&quot;html_68d6923bf51592c3722fed8c438236d5&quot; style=&quot;width: 100.0%; height: 100.0%;&quot;&gt;City                    Metropolitian Road_traffic_density             High Name: 0, dtype: object&lt;/div&gt;`)[0];\n",
       "                popup_8be387585191803aa492a30839c14b6e.setContent(html_68d6923bf51592c3722fed8c438236d5);\n",
       "            \n",
       "        \n",
       "\n",
       "        marker_27000edf8037b0c2f4d3f0e971d155d6.bindPopup(popup_8be387585191803aa492a30839c14b6e)\n",
       "        ;\n",
       "\n",
       "        \n",
       "    \n",
       "    \n",
       "            var marker_09234b0eabd30074a2a914c0f6dea9f3 = L.marker(\n",
       "                [18.6240965, 76.436379],\n",
       "                {}\n",
       "            ).addTo(map_769cda903ef75b63e884a7ae22dc0f01);\n",
       "        \n",
       "    \n",
       "        var popup_dae2c2ce02574af19bbb1c523fb1e236 = L.popup({&quot;maxWidth&quot;: &quot;100%&quot;});\n",
       "\n",
       "        \n",
       "            \n",
       "                var html_6770880e24fa9302ac682fbeba771d61 = $(`&lt;div id=&quot;html_6770880e24fa9302ac682fbeba771d61&quot; style=&quot;width: 100.0%; height: 100.0%;&quot;&gt;City                    Metropolitian Road_traffic_density              Jam Name: 1, dtype: object&lt;/div&gt;`)[0];\n",
       "                popup_dae2c2ce02574af19bbb1c523fb1e236.setContent(html_6770880e24fa9302ac682fbeba771d61);\n",
       "            \n",
       "        \n",
       "\n",
       "        marker_09234b0eabd30074a2a914c0f6dea9f3.bindPopup(popup_dae2c2ce02574af19bbb1c523fb1e236)\n",
       "        ;\n",
       "\n",
       "        \n",
       "    \n",
       "    \n",
       "            var marker_7caf17c4a9459d8b120378b22053e28e = L.marker(\n",
       "                [18.676947, 75.9734],\n",
       "                {}\n",
       "            ).addTo(map_769cda903ef75b63e884a7ae22dc0f01);\n",
       "        \n",
       "    \n",
       "        var popup_ad1908f6beaf7d21bff5b538ed692a61 = L.popup({&quot;maxWidth&quot;: &quot;100%&quot;});\n",
       "\n",
       "        \n",
       "            \n",
       "                var html_143bd7f6aa9bca08e8beb1cdda3520e5 = $(`&lt;div id=&quot;html_143bd7f6aa9bca08e8beb1cdda3520e5&quot; style=&quot;width: 100.0%; height: 100.0%;&quot;&gt;City                    Metropolitian Road_traffic_density              Low Name: 2, dtype: object&lt;/div&gt;`)[0];\n",
       "                popup_ad1908f6beaf7d21bff5b538ed692a61.setContent(html_143bd7f6aa9bca08e8beb1cdda3520e5);\n",
       "            \n",
       "        \n",
       "\n",
       "        marker_7caf17c4a9459d8b120378b22053e28e.bindPopup(popup_ad1908f6beaf7d21bff5b538ed692a61)\n",
       "        ;\n",
       "\n",
       "        \n",
       "    \n",
       "    \n",
       "            var marker_5f71ec2d8b5f1761f4140727323e0851 = L.marker(\n",
       "                [18.653171999999998, 76.646792],\n",
       "                {}\n",
       "            ).addTo(map_769cda903ef75b63e884a7ae22dc0f01);\n",
       "        \n",
       "    \n",
       "        var popup_76b4e82c294018a5db1c599ca9d9ac38 = L.popup({&quot;maxWidth&quot;: &quot;100%&quot;});\n",
       "\n",
       "        \n",
       "            \n",
       "                var html_3cfc0c63749fcabc6c28f17b4c069389 = $(`&lt;div id=&quot;html_3cfc0c63749fcabc6c28f17b4c069389&quot; style=&quot;width: 100.0%; height: 100.0%;&quot;&gt;City                    Metropolitian Road_traffic_density           Medium Name: 3, dtype: object&lt;/div&gt;`)[0];\n",
       "                popup_76b4e82c294018a5db1c599ca9d9ac38.setContent(html_3cfc0c63749fcabc6c28f17b4c069389);\n",
       "            \n",
       "        \n",
       "\n",
       "        marker_5f71ec2d8b5f1761f4140727323e0851.bindPopup(popup_76b4e82c294018a5db1c599ca9d9ac38)\n",
       "        ;\n",
       "\n",
       "        \n",
       "    \n",
       "    \n",
       "            var marker_f429f75326d878c7f474009ea605fd71 = L.marker(\n",
       "                [12.392058, 73.870328],\n",
       "                {}\n",
       "            ).addTo(map_769cda903ef75b63e884a7ae22dc0f01);\n",
       "        \n",
       "    \n",
       "        var popup_24ccec5b3186f5435b372c35118b42a0 = L.popup({&quot;maxWidth&quot;: &quot;100%&quot;});\n",
       "\n",
       "        \n",
       "            \n",
       "                var html_1be5c4d2e20182e10f6053f9bb020dc0 = $(`&lt;div id=&quot;html_1be5c4d2e20182e10f6053f9bb020dc0&quot; style=&quot;width: 100.0%; height: 100.0%;&quot;&gt;City                    Semi-Urban Road_traffic_density          High Name: 4, dtype: object&lt;/div&gt;`)[0];\n",
       "                popup_24ccec5b3186f5435b372c35118b42a0.setContent(html_1be5c4d2e20182e10f6053f9bb020dc0);\n",
       "            \n",
       "        \n",
       "\n",
       "        marker_f429f75326d878c7f474009ea605fd71.bindPopup(popup_24ccec5b3186f5435b372c35118b42a0)\n",
       "        ;\n",
       "\n",
       "        \n",
       "    \n",
       "    \n",
       "            var marker_6644c0360cf7a426314472ace43c65c7 = L.marker(\n",
       "                [22.338096, 75.902841],\n",
       "                {}\n",
       "            ).addTo(map_769cda903ef75b63e884a7ae22dc0f01);\n",
       "        \n",
       "    \n",
       "        var popup_26af381b9686ce77f14884562d1c35ab = L.popup({&quot;maxWidth&quot;: &quot;100%&quot;});\n",
       "\n",
       "        \n",
       "            \n",
       "                var html_9d5378e8dc4ace601ab33d4e2d08cd7a = $(`&lt;div id=&quot;html_9d5378e8dc4ace601ab33d4e2d08cd7a&quot; style=&quot;width: 100.0%; height: 100.0%;&quot;&gt;City                    Semi-Urban Road_traffic_density           Jam Name: 5, dtype: object&lt;/div&gt;`)[0];\n",
       "                popup_26af381b9686ce77f14884562d1c35ab.setContent(html_9d5378e8dc4ace601ab33d4e2d08cd7a);\n",
       "            \n",
       "        \n",
       "\n",
       "        marker_6644c0360cf7a426314472ace43c65c7.bindPopup(popup_26af381b9686ce77f14884562d1c35ab)\n",
       "        ;\n",
       "\n",
       "        \n",
       "    \n",
       "    \n",
       "            var marker_6049e7cd9a99663cdd365d0367509516 = L.marker(\n",
       "                [13.049096, 77.753237],\n",
       "                {}\n",
       "            ).addTo(map_769cda903ef75b63e884a7ae22dc0f01);\n",
       "        \n",
       "    \n",
       "        var popup_ba8eac015cde98c7027d6425ed0daa95 = L.popup({&quot;maxWidth&quot;: &quot;100%&quot;});\n",
       "\n",
       "        \n",
       "            \n",
       "                var html_7c7c8815fa733ce5079e84b6857e5a90 = $(`&lt;div id=&quot;html_7c7c8815fa733ce5079e84b6857e5a90&quot; style=&quot;width: 100.0%; height: 100.0%;&quot;&gt;City                    Semi-Urban Road_traffic_density        Medium Name: 6, dtype: object&lt;/div&gt;`)[0];\n",
       "                popup_ba8eac015cde98c7027d6425ed0daa95.setContent(html_7c7c8815fa733ce5079e84b6857e5a90);\n",
       "            \n",
       "        \n",
       "\n",
       "        marker_6049e7cd9a99663cdd365d0367509516.bindPopup(popup_ba8eac015cde98c7027d6425ed0daa95)\n",
       "        ;\n",
       "\n",
       "        \n",
       "    \n",
       "    \n",
       "            var marker_6825c6864384c8845bf43554705b2d1d = L.marker(\n",
       "                [17.473935, 76.12402900000001],\n",
       "                {}\n",
       "            ).addTo(map_769cda903ef75b63e884a7ae22dc0f01);\n",
       "        \n",
       "    \n",
       "        var popup_5a18b98146e8b3b74778ca79a2999e7c = L.popup({&quot;maxWidth&quot;: &quot;100%&quot;});\n",
       "\n",
       "        \n",
       "            \n",
       "                var html_c9e7aed3410af11d26113ca5c981e43d = $(`&lt;div id=&quot;html_c9e7aed3410af11d26113ca5c981e43d&quot; style=&quot;width: 100.0%; height: 100.0%;&quot;&gt;City                    Urban Road_traffic_density     High Name: 7, dtype: object&lt;/div&gt;`)[0];\n",
       "                popup_5a18b98146e8b3b74778ca79a2999e7c.setContent(html_c9e7aed3410af11d26113ca5c981e43d);\n",
       "            \n",
       "        \n",
       "\n",
       "        marker_6825c6864384c8845bf43554705b2d1d.bindPopup(popup_5a18b98146e8b3b74778ca79a2999e7c)\n",
       "        ;\n",
       "\n",
       "        \n",
       "    \n",
       "    \n",
       "            var marker_a9f33c18178681862a783339e42af225 = L.marker(\n",
       "                [18.6200965, 75.975668],\n",
       "                {}\n",
       "            ).addTo(map_769cda903ef75b63e884a7ae22dc0f01);\n",
       "        \n",
       "    \n",
       "        var popup_8f5e8c1c387d5ee846dd8ed6ada47933 = L.popup({&quot;maxWidth&quot;: &quot;100%&quot;});\n",
       "\n",
       "        \n",
       "            \n",
       "                var html_892db4ea5a3bc8447962e9d07be52bef = $(`&lt;div id=&quot;html_892db4ea5a3bc8447962e9d07be52bef&quot; style=&quot;width: 100.0%; height: 100.0%;&quot;&gt;City                    Urban Road_traffic_density      Jam Name: 8, dtype: object&lt;/div&gt;`)[0];\n",
       "                popup_8f5e8c1c387d5ee846dd8ed6ada47933.setContent(html_892db4ea5a3bc8447962e9d07be52bef);\n",
       "            \n",
       "        \n",
       "\n",
       "        marker_a9f33c18178681862a783339e42af225.bindPopup(popup_8f5e8c1c387d5ee846dd8ed6ada47933)\n",
       "        ;\n",
       "\n",
       "        \n",
       "    \n",
       "    \n",
       "            var marker_f29f48ea68eabafdf7bdfdce5f511772 = L.marker(\n",
       "                [18.612718, 75.912574],\n",
       "                {}\n",
       "            ).addTo(map_769cda903ef75b63e884a7ae22dc0f01);\n",
       "        \n",
       "    \n",
       "        var popup_932928087d0e3f9c0f1f1d4a29823f6e = L.popup({&quot;maxWidth&quot;: &quot;100%&quot;});\n",
       "\n",
       "        \n",
       "            \n",
       "                var html_898470ad0994cea77e534ca974bfbd9a = $(`&lt;div id=&quot;html_898470ad0994cea77e534ca974bfbd9a&quot; style=&quot;width: 100.0%; height: 100.0%;&quot;&gt;City                    Urban Road_traffic_density      Low Name: 9, dtype: object&lt;/div&gt;`)[0];\n",
       "                popup_932928087d0e3f9c0f1f1d4a29823f6e.setContent(html_898470ad0994cea77e534ca974bfbd9a);\n",
       "            \n",
       "        \n",
       "\n",
       "        marker_f29f48ea68eabafdf7bdfdce5f511772.bindPopup(popup_932928087d0e3f9c0f1f1d4a29823f6e)\n",
       "        ;\n",
       "\n",
       "        \n",
       "    \n",
       "    \n",
       "            var marker_12bc30aa7204befb2d1dd390ab8437bd = L.marker(\n",
       "                [17.560851, 76.668046],\n",
       "                {}\n",
       "            ).addTo(map_769cda903ef75b63e884a7ae22dc0f01);\n",
       "        \n",
       "    \n",
       "        var popup_fa1da1e6d1e3c000f512ebd86f1d892c = L.popup({&quot;maxWidth&quot;: &quot;100%&quot;});\n",
       "\n",
       "        \n",
       "            \n",
       "                var html_e9293e390d48b30bd221a6449a83b260 = $(`&lt;div id=&quot;html_e9293e390d48b30bd221a6449a83b260&quot; style=&quot;width: 100.0%; height: 100.0%;&quot;&gt;City                     Urban Road_traffic_density    Medium Name: 10, dtype: object&lt;/div&gt;`)[0];\n",
       "                popup_fa1da1e6d1e3c000f512ebd86f1d892c.setContent(html_e9293e390d48b30bd221a6449a83b260);\n",
       "            \n",
       "        \n",
       "\n",
       "        marker_12bc30aa7204befb2d1dd390ab8437bd.bindPopup(popup_fa1da1e6d1e3c000f512ebd86f1d892c)\n",
       "        ;\n",
       "\n",
       "        \n",
       "    \n",
       "&lt;/script&gt;\n",
       "&lt;/html&gt;\" style=\"position:absolute;width:100%;height:100%;left:0;top:0;border:none !important;\" allowfullscreen webkitallowfullscreen mozallowfullscreen></iframe></div></div>"
      ],
      "text/plain": [
       "<folium.folium.Map at 0x2c14eed6750>"
      ]
     },
     "execution_count": 14,
     "metadata": {},
     "output_type": "execute_result"
    }
   ],
   "source": [
    "# localização mediana das longitudes e latitudes agrupadas por cidade e densidade de tráfego\n",
    "import folium\n",
    "df_aux = df.groupby(['City','Road_traffic_density'])['Delivery_location_latitude'].median().reset_index()\n",
    "df_aux['median_longitude'] = df.groupby(['City','Road_traffic_density'])['Delivery_location_longitude'].median().reset_index()['Delivery_location_longitude']\n",
    "df_aux.rename(columns={'Delivery_location_latitude':'median_latitude'},inplace=True)\n",
    "map = folium.Map()\n",
    "\n",
    "for i, location_info in df_aux.iterrows():\n",
    "    folium.Marker([location_info['median_latitude'],\n",
    "                 location_info['median_longitude']],\n",
    "                 popup=location_info[['City','Road_traffic_density']]).add_to(map)\n",
    "\n",
    "map"
   ]
  },
  {
   "cell_type": "code",
   "execution_count": null,
   "metadata": {},
   "outputs": [],
   "source": [
    "df_aux = df['City']\n",
    "print(df_aux)\n",
    "df_aux = df['Time_taken(min)']\n",
    "print(df_aux)"
   ]
  }
 ],
 "metadata": {
  "colab": {
   "provenance": []
  },
  "kernelspec": {
   "display_name": "Python 3 (ipykernel)",
   "language": "python",
   "name": "python3"
  },
  "language_info": {
   "codemirror_mode": {
    "name": "ipython",
    "version": 3
   },
   "file_extension": ".py",
   "mimetype": "text/x-python",
   "name": "python",
   "nbconvert_exporter": "python",
   "pygments_lexer": "ipython3",
   "version": "3.12.5"
  }
 },
 "nbformat": 4,
 "nbformat_minor": 4
}
